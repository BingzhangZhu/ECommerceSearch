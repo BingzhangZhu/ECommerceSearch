{
 "cells": [
  {
   "cell_type": "code",
   "execution_count": 1,
   "metadata": {},
   "outputs": [],
   "source": [
    "import jieba\n",
    "import pandas as pd\n",
    "from sklearn.feature_extraction.text import TfidfVectorizer"
   ]
  },
  {
   "cell_type": "code",
   "execution_count": 2,
   "metadata": {},
   "outputs": [
    {
     "data": {
      "text/html": [
       "<div>\n",
       "<style scoped>\n",
       "    .dataframe tbody tr th:only-of-type {\n",
       "        vertical-align: middle;\n",
       "    }\n",
       "\n",
       "    .dataframe tbody tr th {\n",
       "        vertical-align: top;\n",
       "    }\n",
       "\n",
       "    .dataframe thead th {\n",
       "        text-align: right;\n",
       "    }\n",
       "</style>\n",
       "<table border=\"1\" class=\"dataframe\">\n",
       "  <thead>\n",
       "    <tr style=\"text-align: right;\">\n",
       "      <th></th>\n",
       "      <th>doc_id</th>\n",
       "      <th>title</th>\n",
       "    </tr>\n",
       "  </thead>\n",
       "  <tbody>\n",
       "    <tr>\n",
       "      <th>0</th>\n",
       "      <td>1</td>\n",
       "      <td>铂盛弹盖文艺保温杯学生男女情侣车载时尚英文锁扣不锈钢真空水杯</td>\n",
       "    </tr>\n",
       "    <tr>\n",
       "      <th>1</th>\n",
       "      <td>2</td>\n",
       "      <td>可爱虎子华为荣耀X30i手机壳荣耀x30防摔全包镜头honorx30max液态硅胶虎年情侣女...</td>\n",
       "    </tr>\n",
       "    <tr>\n",
       "      <th>2</th>\n",
       "      <td>3</td>\n",
       "      <td>190色素色亚麻棉平纹布料 衬衫裙服装定制手工绣花面料 汇典亚麻</td>\n",
       "    </tr>\n",
       "    <tr>\n",
       "      <th>3</th>\n",
       "      <td>4</td>\n",
       "      <td>松尼合金木工开孔器实木门开锁孔木板圆形打空神器定位打孔钻头</td>\n",
       "    </tr>\n",
       "    <tr>\n",
       "      <th>4</th>\n",
       "      <td>5</td>\n",
       "      <td>微钩绿蝴蝶材料包非成品 赠送视频组装教程 需自备钩针染料</td>\n",
       "    </tr>\n",
       "  </tbody>\n",
       "</table>\n",
       "</div>"
      ],
      "text/plain": [
       "   doc_id                                              title\n",
       "0       1                     铂盛弹盖文艺保温杯学生男女情侣车载时尚英文锁扣不锈钢真空水杯\n",
       "1       2  可爱虎子华为荣耀X30i手机壳荣耀x30防摔全包镜头honorx30max液态硅胶虎年情侣女...\n",
       "2       3                   190色素色亚麻棉平纹布料 衬衫裙服装定制手工绣花面料 汇典亚麻\n",
       "3       4                      松尼合金木工开孔器实木门开锁孔木板圆形打空神器定位打孔钻头\n",
       "4       5                       微钩绿蝴蝶材料包非成品 赠送视频组装教程 需自备钩针染料"
      ]
     },
     "execution_count": 2,
     "metadata": {},
     "output_type": "execute_result"
    }
   ],
   "source": [
    "corpus = pd.read_csv(\"../data/corpus.tsv\", sep=\"\\t\", names = [\"doc_id\", \"title\"])\n",
    "corpus.head()"
   ]
  },
  {
   "cell_type": "code",
   "execution_count": 6,
   "metadata": {},
   "outputs": [
    {
     "data": {
      "text/plain": [
       "0    铂 盛弹 盖 文艺 保温 保温杯 学生 男女 情侣 车载 时尚 英文 锁扣 不锈 不锈钢 真...\n",
       "1    可爱 虎子 华为 荣耀 X30i 手机 壳 荣耀 x30 防 摔 全包 镜头 honorx3...\n",
       "2    190 色素 色 亚麻 亚麻棉 平纹 平纹布 料   衬衫 裙 服装 定制 手工 绣花 面料...\n",
       "3    松尼 合金 木工 开孔器 实木 木门 实木门 开 锁孔 木板 圆形 打 空 神器 定位 打孔 钻头\n",
       "4          微钩 绿 蝴蝶 材料 包非 成品   赠送 视频 组装 教程   需 自备 钩针 染料\n",
       "Name: seg, dtype: object"
      ]
     },
     "execution_count": 6,
     "metadata": {},
     "output_type": "execute_result"
    }
   ],
   "source": [
    "corpus_head = corpus.head()\n",
    "corpus_head.loc[:, \"seg\"] = corpus_head.apply(lambda x: \" \".join(jieba.cut_for_search(x[\"title\"])), axis=1)\n",
    "# print(list(jieba.cut_for_search(\"小明硕士毕业于中国科学院计算所，后在日本京都大学深造\")))\n",
    "\n",
    "vectorizer = TfidfVectorizer(token_pattern=r\"(?u)\\b\\w+\\b\", max_df=0.6, stop_words=[\"是\", \"的\"]).fit(corpus_head.loc[:, \"seg\"])\n",
    "corpus_head.loc[:, \"seg\"]\n"
   ]
  },
  {
   "cell_type": "code",
   "execution_count": 87,
   "metadata": {},
   "outputs": [
    {
     "data": {
      "text/html": [
       "<div>\n",
       "<style scoped>\n",
       "    .dataframe tbody tr th:only-of-type {\n",
       "        vertical-align: middle;\n",
       "    }\n",
       "\n",
       "    .dataframe tbody tr th {\n",
       "        vertical-align: top;\n",
       "    }\n",
       "\n",
       "    .dataframe thead th {\n",
       "        text-align: right;\n",
       "    }\n",
       "</style>\n",
       "<table border=\"1\" class=\"dataframe\">\n",
       "  <thead>\n",
       "    <tr style=\"text-align: right;\">\n",
       "      <th></th>\n",
       "      <th>doc_id</th>\n",
       "      <th>title</th>\n",
       "      <th>seg</th>\n",
       "      <th>tfidf</th>\n",
       "    </tr>\n",
       "  </thead>\n",
       "  <tbody>\n",
       "    <tr>\n",
       "      <th>0</th>\n",
       "      <td>1</td>\n",
       "      <td>铂盛弹盖文艺保温杯学生男女情侣车载时尚英文锁扣不锈钢真空水杯</td>\n",
       "      <td>铂 盛弹 盖 文艺 保温 保温杯 学生 男女 情侣 车载 时尚 英文 锁扣 不锈 不锈钢 真...</td>\n",
       "      <td>[0.0, 0.0, 0.0, 0.0, 0.2450647990802098, 0.245...</td>\n",
       "    </tr>\n",
       "    <tr>\n",
       "      <th>1</th>\n",
       "      <td>2</td>\n",
       "      <td>可爱虎子华为荣耀X30i手机壳荣耀x30防摔全包镜头honorx30max液态硅胶虎年情侣女...</td>\n",
       "      <td>可爱 虎子 华为 荣耀 X30i 手机 壳 荣耀 x30 防 摔 全包 镜头 honorx3...</td>\n",
       "      <td>[0.0, 0.1806251706796955, 0.1806251706796955, ...</td>\n",
       "    </tr>\n",
       "    <tr>\n",
       "      <th>2</th>\n",
       "      <td>3</td>\n",
       "      <td>190色素色亚麻棉平纹布料 衬衫裙服装定制手工绣花面料 汇典亚麻</td>\n",
       "      <td>190 色素 色 亚麻 亚麻棉 平纹 平纹布 料   衬衫 裙 服装 定制 手工 绣花 面料...</td>\n",
       "      <td>[0.22941573387056177, 0.0, 0.0, 0.0, 0.0, 0.0,...</td>\n",
       "    </tr>\n",
       "    <tr>\n",
       "      <th>3</th>\n",
       "      <td>4</td>\n",
       "      <td>松尼合金木工开孔器实木门开锁孔木板圆形打空神器定位打孔钻头</td>\n",
       "      <td>松尼 合金 木工 开孔器 实木 木门 实木门 开 锁孔 木板 圆形 打 空 神器 定位 打孔 钻头</td>\n",
       "      <td>[0.0, 0.0, 0.0, 0.0, 0.0, 0.0, 0.0, 0.0, 0.0, ...</td>\n",
       "    </tr>\n",
       "    <tr>\n",
       "      <th>4</th>\n",
       "      <td>5</td>\n",
       "      <td>微钩绿蝴蝶材料包非成品 赠送视频组装教程 需自备钩针染料</td>\n",
       "      <td>微钩 绿 蝴蝶 材料 包非 成品   赠送 视频 组装 教程   需 自备 钩针 染料</td>\n",
       "      <td>[0.0, 0.0, 0.0, 0.0, 0.0, 0.0, 0.0, 0.0, 0.0, ...</td>\n",
       "    </tr>\n",
       "  </tbody>\n",
       "</table>\n",
       "</div>"
      ],
      "text/plain": [
       "   doc_id                                              title  \\\n",
       "0       1                     铂盛弹盖文艺保温杯学生男女情侣车载时尚英文锁扣不锈钢真空水杯   \n",
       "1       2  可爱虎子华为荣耀X30i手机壳荣耀x30防摔全包镜头honorx30max液态硅胶虎年情侣女...   \n",
       "2       3                   190色素色亚麻棉平纹布料 衬衫裙服装定制手工绣花面料 汇典亚麻   \n",
       "3       4                      松尼合金木工开孔器实木门开锁孔木板圆形打空神器定位打孔钻头   \n",
       "4       5                       微钩绿蝴蝶材料包非成品 赠送视频组装教程 需自备钩针染料   \n",
       "\n",
       "                                                 seg  \\\n",
       "0  铂 盛弹 盖 文艺 保温 保温杯 学生 男女 情侣 车载 时尚 英文 锁扣 不锈 不锈钢 真...   \n",
       "1  可爱 虎子 华为 荣耀 X30i 手机 壳 荣耀 x30 防 摔 全包 镜头 honorx3...   \n",
       "2  190 色素 色 亚麻 亚麻棉 平纹 平纹布 料   衬衫 裙 服装 定制 手工 绣花 面料...   \n",
       "3  松尼 合金 木工 开孔器 实木 木门 实木门 开 锁孔 木板 圆形 打 空 神器 定位 打孔 钻头   \n",
       "4        微钩 绿 蝴蝶 材料 包非 成品   赠送 视频 组装 教程   需 自备 钩针 染料   \n",
       "\n",
       "                                               tfidf  \n",
       "0  [0.0, 0.0, 0.0, 0.0, 0.2450647990802098, 0.245...  \n",
       "1  [0.0, 0.1806251706796955, 0.1806251706796955, ...  \n",
       "2  [0.22941573387056177, 0.0, 0.0, 0.0, 0.0, 0.0,...  \n",
       "3  [0.0, 0.0, 0.0, 0.0, 0.0, 0.0, 0.0, 0.0, 0.0, ...  \n",
       "4  [0.0, 0.0, 0.0, 0.0, 0.0, 0.0, 0.0, 0.0, 0.0, ...  "
      ]
     },
     "execution_count": 87,
     "metadata": {},
     "output_type": "execute_result"
    }
   ],
   "source": [
    "sparse_result = vectorizer.transform(corpus_head.loc[:, \"seg\"])\n",
    "dense_result = sparse_result.todense().tolist()\n",
    "for i in range(corpus_head.shape[0]):\n",
    "    corpus_head.loc[i, \"tfidf\"] = str(dense_result[i])\n",
    "corpus_head"
   ]
  },
  {
   "cell_type": "code",
   "execution_count": null,
   "metadata": {},
   "outputs": [],
   "source": []
  }
 ],
 "metadata": {
  "interpreter": {
   "hash": "1973d4e1fe7264e145e727f28e42e2c425085d28329771b5743c99e1f5dbd0af"
  },
  "kernelspec": {
   "display_name": "Python 3.8.3 ('base')",
   "language": "python",
   "name": "python3"
  },
  "language_info": {
   "codemirror_mode": {
    "name": "ipython",
    "version": 3
   },
   "file_extension": ".py",
   "mimetype": "text/x-python",
   "name": "python",
   "nbconvert_exporter": "python",
   "pygments_lexer": "ipython3",
   "version": "3.8.3"
  },
  "orig_nbformat": 4
 },
 "nbformat": 4,
 "nbformat_minor": 2
}
